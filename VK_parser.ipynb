{
  "nbformat": 4,
  "nbformat_minor": 0,
  "metadata": {
    "colab": {
      "provenance": [],
      "authorship_tag": "ABX9TyPw5m6lNWEHI/3z9AZLgl64"
    },
    "kernelspec": {
      "name": "python3",
      "display_name": "Python 3"
    },
    "language_info": {
      "name": "python"
    }
  },
  "cells": [
    {
      "cell_type": "markdown",
      "source": [
        "Установим все необходимые зависимости"
      ],
      "metadata": {
        "id": "9N8l6DVZNTgJ"
      }
    },
    {
      "cell_type": "code",
      "source": [
        "import requests\n",
        "import pandas as pd\n",
        "import seaborn as sns"
      ],
      "metadata": {
        "id": "P74bCdnoNXsF"
      },
      "execution_count": 1,
      "outputs": []
    },
    {
      "cell_type": "markdown",
      "source": [
        "Спарсим данные со страницы Вали Карнавал ВКонтакте https://vk.com/karna.val.music"
      ],
      "metadata": {
        "id": "pjZdv5BTbwQl"
      }
    },
    {
      "cell_type": "code",
      "source": [
        "def get_data(TOKEN_USER, VERSION, DOMAIN, count_per_request, total_posts):\n",
        "  data = []\n",
        "  # через api vk вызываем статистику постов\n",
        "  for offset in range(0, total_posts, count_per_request):\n",
        "      response = requests.get('https://api.vk.com/method/wall.get',\n",
        "      params={'access_token': TOKEN_USER,\n",
        "              'v': VERSION,\n",
        "              'domain': DOMAIN,\n",
        "              'count': count_per_request,\n",
        "              'offset': offset,\n",
        "              'filter': str('owner')})\n",
        "\n",
        "      tmp = response.json()['response']['items']\n",
        "      data.extend(tmp)\n",
        "  #print(data)\n",
        "\n",
        "\n",
        "  # считаем сколько фото у поста, заводи все в df\n",
        "  date = []\n",
        "  like = []\n",
        "\n",
        "  for post in data:\n",
        "      date.append(post['date'])\n",
        "      like.append(post['likes']['count'])\n",
        "\n",
        "  df = pd.DataFrame(\n",
        "      {'date': date,\n",
        "      'like.count': like,\n",
        "      })\n",
        "\n",
        "  df['date'] = pd.to_datetime(df['date'], unit='s')\n",
        "  return df\n",
        "\n",
        "TOKEN_USER = \"User token\"\n",
        "VERSION = 5.131\n",
        "DOMAIN = \"karna.val.music\"\n",
        "count_per_request = 100\n",
        "total_posts = 1257\n",
        "\n",
        "df_likes = get_data(TOKEN_USER, VERSION, DOMAIN, count_per_request, total_posts)\n",
        "\n",
        "print(df_likes)"
      ],
      "metadata": {
        "colab": {
          "base_uri": "https://localhost:8080/"
        },
        "id": "dlJFD2AxNiWm",
        "outputId": "81aec4c9-cc76-4b93-af55-16ab219b1e39"
      },
      "execution_count": 2,
      "outputs": [
        {
          "output_type": "stream",
          "name": "stdout",
          "text": [
            "                    date  like.count\n",
            "0    2023-07-19 09:58:06       24928\n",
            "1    2023-07-31 10:37:45        2461\n",
            "2    2023-07-29 16:26:14       20830\n",
            "3    2023-07-29 12:25:30       12991\n",
            "4    2023-07-29 10:18:03       18639\n",
            "...                  ...         ...\n",
            "1258 2020-06-15 12:16:51        5789\n",
            "1259 2020-06-15 12:15:12        6661\n",
            "1260 2020-06-15 12:01:25        5095\n",
            "1261 2020-06-15 11:53:17        5385\n",
            "1262 2020-06-14 18:06:40        7292\n",
            "\n",
            "[1263 rows x 2 columns]\n"
          ]
        }
      ]
    },
    {
      "cell_type": "markdown",
      "source": [
        "Посмотрим на распределение лайков"
      ],
      "metadata": {
        "id": "9tEc_E7scKSK"
      }
    },
    {
      "cell_type": "code",
      "source": [
        "sns.boxplot(df_likes['like.count'])"
      ],
      "metadata": {
        "colab": {
          "base_uri": "https://localhost:8080/",
          "height": 447
        },
        "id": "qZD6tIQANwbJ",
        "outputId": "dfdbeecd-8858-4ac5-b926-397a09cab7e9"
      },
      "execution_count": 3,
      "outputs": [
        {
          "output_type": "execute_result",
          "data": {
            "text/plain": [
              "<Axes: >"
            ]
          },
          "metadata": {},
          "execution_count": 3
        },
        {
          "output_type": "display_data",
          "data": {
            "text/plain": [
              "<Figure size 640x480 with 1 Axes>"
            ],
            "image/png": "[encoded data removed]"
          },
          "metadata": {}
        }
      ]
    },
    {
      "cell_type": "markdown",
      "source": [
        "Удалим все посты в которых количество лайков больше 90 000 во избежании попадания постов с накрученными лайками"
      ],
      "metadata": {
        "id": "mIZkPzjUaFrA"
      }
    },
    {
      "cell_type": "code",
      "source": [
        "df_likes.drop(df_likes[df_likes['like.count'] > 90000].index, inplace = True)\n",
        "sns.boxplot(df_likes['like.count'])"
      ],
      "metadata": {
        "colab": {
          "base_uri": "https://localhost:8080/",
          "height": 447
        },
        "id": "u48Nhi9YRrkV",
        "outputId": "598ee259-ded5-4416-c323-992dc6601f9d"
      },
      "execution_count": 4,
      "outputs": [
        {
          "output_type": "execute_result",
          "data": {
            "text/plain": [
              "<Axes: >"
            ]
          },
          "metadata": {},
          "execution_count": 4
        },
        {
          "output_type": "display_data",
          "data": {
            "text/plain": [
              "<Figure size 640x480 with 1 Axes>"
            ],
            "image/png": "[encoded data removed]"
          },
          "metadata": {}
        }
      ]
    },
    {
      "cell_type": "code",
      "source": [
        "print(df_likes)"
      ],
      "metadata": {
        "colab": {
          "base_uri": "https://localhost:8080/"
        },
        "id": "KSwyIHBLaOAG",
        "outputId": "6edd9908-5733-4946-f541-64aca9cd4694"
      },
      "execution_count": 5,
      "outputs": [
        {
          "output_type": "stream",
          "name": "stdout",
          "text": [
            "                    date  like.count\n",
            "0    2023-07-19 09:58:06       24928\n",
            "1    2023-07-31 10:37:45        2461\n",
            "2    2023-07-29 16:26:14       20830\n",
            "3    2023-07-29 12:25:30       12991\n",
            "4    2023-07-29 10:18:03       18639\n",
            "...                  ...         ...\n",
            "1258 2020-06-15 12:16:51        5789\n",
            "1259 2020-06-15 12:15:12        6661\n",
            "1260 2020-06-15 12:01:25        5095\n",
            "1261 2020-06-15 11:53:17        5385\n",
            "1262 2020-06-14 18:06:40        7292\n",
            "\n",
            "[1261 rows x 2 columns]\n"
          ]
        }
      ]
    },
    {
      "cell_type": "markdown",
      "source": [
        "Сохраним данные в формат csv"
      ],
      "metadata": {
        "id": "MvCKvqNvcUM8"
      }
    },
    {
      "cell_type": "code",
      "source": [
        "df_likes.to_csv('src\\data.csv', index=False)"
      ],
      "metadata": {
        "id": "JadEbiwea5pi"
      },
      "execution_count": 6,
      "outputs": []
    }
  ]
}